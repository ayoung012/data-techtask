{
 "cells": [
  {
   "cell_type": "code",
   "execution_count": 1,
   "metadata": {},
   "outputs": [],
   "source": [
    "import requests\n",
    "from bs4 import BeautifulSoup\n",
    "\n",
    "base_url = 'http://www.planecrashinfo.com'\n",
    "database_url = base_url + '/database.htm'"
   ]
  },
  {
   "cell_type": "code",
   "execution_count": 2,
   "metadata": {},
   "outputs": [],
   "source": [
    "r = requests.get(database_url)"
   ]
  },
  {
   "cell_type": "code",
   "execution_count": 3,
   "metadata": {},
   "outputs": [],
   "source": [
    "# Parse initial list\n",
    "soup = BeautifulSoup(r.text, 'html.parser')"
   ]
  },
  {
   "cell_type": "code",
   "execution_count": 4,
   "metadata": {},
   "outputs": [],
   "source": [
    "crashes = {}\n",
    "for a in soup.find_all('a'):\n",
    "    year = a.string.strip()\n",
    "    if (year.isnumeric()):\n",
    "        crashes[year] = {'url': a['href'].strip()}"
   ]
  },
  {
   "cell_type": "code",
   "execution_count": 5,
   "metadata": {},
   "outputs": [],
   "source": [
    "# Fetch webpage data\n",
    "for i, p in crashes.items():\n",
    "    r = requests.get(base_url + '/' + p['url'])\n",
    "    crashes[i]['data'] = r.text"
   ]
  },
  {
   "cell_type": "code",
   "execution_count": 59,
   "metadata": {},
   "outputs": [
    {
     "name": "stdout",
     "output_type": "stream",
     "text": [
      "{'date': '17 Sep 1908', 'year': '1920', 'location': 'Fort Myer, Virginia', 'operator': 'Military - U.S. Army\\n', 'aircraft_type': 'Wright Flyer III', 'registration': '?', 'fatalities': '1'}\n",
      "{'date': '07 Sep 1909', 'year': '1920', 'location': 'Juvisy-sur-Orge, France', 'operator': '?\\n', 'aircraft_type': 'Wright Byplane', 'registration': 'SC1', 'fatalities': '1'}\n",
      "{'date': '12 Jul 1912', 'year': '1920', 'location': 'Atlantic City, New Jersey', 'operator': 'Military - U.S. Navy\\n', 'aircraft_type': 'Dirigible', 'registration': '?', 'fatalities': '5'}\n",
      "{'date': '06 Aug 1913', 'year': '1920', 'location': 'Victoria, British Columbia, Canada', 'operator': 'Private\\n', 'aircraft_type': 'Curtiss seaplane', 'registration': '?', 'fatalities': '1'}\n",
      "{'date': '09 Sep 1913', 'year': '1920', 'location': 'Over the North Sea', 'operator': 'Military - German Navy\\n', 'aircraft_type': 'Zeppelin L-1 (airship)', 'registration': '?', 'fatalities': '14'}\n",
      "{'date': '17 Oct 1913', 'year': '1920', 'location': 'Near Johannisthal, Germany', 'operator': 'Military - German Navy\\n', 'aircraft_type': 'Zeppelin L-2 (airship)', 'registration': '?', 'fatalities': '30'}\n",
      "{'date': '05 Mar 1915', 'year': '1920', 'location': 'Tienen, Belgium', 'operator': 'Military - German Navy\\n', 'aircraft_type': 'Zeppelin L-8 (airship)', 'registration': '?', 'fatalities': '21'}\n",
      "{'date': '03 Sep 1915', 'year': '1920', 'location': 'Off Cuxhaven, Germany', 'operator': 'Military - German Navy\\n', 'aircraft_type': 'Zeppelin L-10 (airship)', 'registration': '?', 'fatalities': '19'}\n",
      "{'date': '28 Jul 1916', 'year': '1920', 'location': 'Near Jambol, Bulgeria', 'operator': 'Military - German Army\\n', 'aircraft_type': 'Schutte-Lanz S-L-10 (airship)', 'registration': '?', 'fatalities': '20'}\n",
      "{'date': '24 Sep 1916', 'year': '1920', 'location': 'Billericay, England', 'operator': 'Military - German Navy\\n', 'aircraft_type': 'Zeppelin L-32 (airship)', 'registration': '?', 'fatalities': '22'}\n",
      "{'date': '01 Oct 1916', 'year': '1920', 'location': 'Potters Bar, England', 'operator': 'Military - German Navy\\n', 'aircraft_type': 'Zeppelin L-31 (airship)', 'registration': '?', 'fatalities': '19'}\n",
      "{'date': '21 Nov 1916', 'year': '1920', 'location': 'Mainz, Germany', 'operator': 'Military - German Army\\n', 'aircraft_type': 'Super Zeppelin (airship)', 'registration': '?', 'fatalities': '27'}\n",
      "{'date': '28 Nov 1916', 'year': '1920', 'location': 'Off West Hartlepool, England', 'operator': 'Military - German Navy\\n', 'aircraft_type': 'Zeppelin L-34 (airship)', 'registration': '?', 'fatalities': '20'}\n",
      "{'date': '04 Mar 1917', 'year': '1920', 'location': 'Near Gent, Belgium', 'operator': 'Military - German Army\\n', 'aircraft_type': 'Airship', 'registration': '?', 'fatalities': '20'}\n",
      "{'date': '30 Mar 1917', 'year': '1920', 'location': 'Off Northern Germany', 'operator': 'Military - German Navy\\n', 'aircraft_type': 'Schutte-Lanz S-L-9 (airship)', 'registration': '?', 'fatalities': '23'}\n",
      "{'date': '14 May 1917', 'year': '1920', 'location': 'Near Texel Island, North Sea', 'operator': 'Military - German Navy\\n', 'aircraft_type': 'Zeppelin L-22 (airship)', 'registration': '?', 'fatalities': '21'}\n",
      "{'date': '14 Jun 1917', 'year': '1920', 'location': 'Off Vlieland Island, North Sea', 'operator': 'Military - German Navy\\n', 'aircraft_type': 'Zeppelin L-43 (airship)', 'registration': '?', 'fatalities': '24'}\n",
      "{'date': '17 Jun 1917', 'year': '1920', 'location': 'Near Yarmouth, England', 'operator': '?\\n', 'aircraft_type': 'Zepplin LZ-95 (air ship)', 'registration': 'L-48', 'fatalities': '14'}\n",
      "{'date': '21 Aug 1917', 'year': '1920', 'location': 'Off western Denmark', 'operator': 'Military - German Navy\\n', 'aircraft_type': 'Zeppelin L-23 (airship)', 'registration': '?', 'fatalities': '18'}\n",
      "{'date': '20 Oct 1917', 'year': '1920', 'location': 'Near Luneville, France', 'operator': 'Military - German Navy\\n', 'aircraft_type': 'Zeppelin L-44 (airship)', 'registration': '?', 'fatalities': '18'}\n",
      "{'date': '07 Apr 1918', 'year': '1920', 'location': 'Over the Mediterranean', 'operator': 'Military - German Navy\\n', 'aircraft_type': 'Zeppelin L-59 (airship)', 'registration': '?', 'fatalities': '23'}\n",
      "{'date': '10 May 1918', 'year': '1920', 'location': 'Off Helgoland Island, Germany', 'operator': 'Military - German Navy\\n', 'aircraft_type': 'Zeppelin L-70 (airship)', 'registration': '?', 'fatalities': '22'}\n",
      "{'date': '11 Aug 1918', 'year': '1920', 'location': 'Ameland Island, North Sea', 'operator': 'Military - German Navy\\n', 'aircraft_type': 'Zeppelin L-53 (airship)', 'registration': '?', 'fatalities': '19'}\n",
      "{'date': '16 Dec 1918', 'year': '1920', 'location': 'Elizabeth, New Jersey', 'operator': 'US Aerial Mail Service\\n', 'aircraft_type': 'De Havilland DH-4', 'registration': '97', 'fatalities': '1'}\n",
      "{'date': '25 May 1919', 'year': '1920', 'location': 'Cleveland, Ohio', 'operator': 'US Aerial Mail Service\\n', 'aircraft_type': 'De Havilland DH-4', 'registration': '61', 'fatalities': '1'}\n",
      "{'date': '19 Jul 1919', 'year': '1920', 'location': 'Dix Run, Pennsylvania', 'operator': 'US Aerial Mail Service\\n', 'aircraft_type': 'De Havilland DH-4', 'registration': '82', 'fatalities': '1'}\n",
      "{'date': '02 Aug 1919', 'year': '1920', 'location': 'Verona, Italy', 'operator': 'Caproni Company\\n', 'aircraft_type': 'Caproni Ca.48', 'registration': '?', 'fatalities': '14'}\n",
      "{'date': '02 Oct 1919', 'year': '1920', 'location': 'Newcastle, England', 'operator': 'Aircraft Transport and Travel\\n', 'aircraft_type': 'De Havilland DH-4', 'registration': '?', 'fatalities': '1'}\n",
      "{'date': '14 Oct 1919', 'year': '1920', 'location': 'Cantonsville, Maryland', 'operator': 'US Aerial Mail Service\\n', 'aircraft_type': 'Curtiss R-4LM', 'registration': '32', 'fatalities': '1'}\n",
      "{'date': '20 Oct 1919', 'year': '1920', 'location': 'English Channel off Forkstone, Kent', 'operator': 'Aircraft Transport and Travel\\n', 'aircraft_type': 'De Havilland DH-4', 'registration': 'G-EAHG', 'fatalities': '0'}\n",
      "{'date': '30 Oct 1919', 'year': '1920', 'location': 'Long Valley, New Jersey', 'operator': 'US Aerial Mail Service\\n', 'aircraft_type': 'De Havilland DH.4', 'registration': '77', 'fatalities': '1'}\n",
      "{'date': '11 Dec 1919', 'year': '1920', 'location': 'Catherham, Surrey, UK', 'operator': 'Aircraft Travel Transport\\n', 'aircraft_type': 'de Havilland DH-4', 'registration': 'G-EAHF', 'fatalities': '1'}\n",
      "{'date': '10 Mar 1920', 'year': '1920', 'location': 'New Paris, Indiana', 'operator': 'US Aerial Mail Service\\n', 'aircraft_type': 'De Havilland DH-4', 'registration': '65', 'fatalities': '1'}\n",
      "{'date': '30 Mar 1920', 'year': '1920', 'location': 'Newark, New Jersey', 'operator': 'US Aerial Mail Service\\n', 'aircraft_type': 'De Havilland DH-4', 'registration': '72', 'fatalities': '1'}\n",
      "{'date': '10 Apr 1920', 'year': '1920', 'location': 'Newark, New Jersey', 'operator': 'US Aerial Mail Service\\n', 'aircraft_type': 'Curtiss R-4LM', 'registration': '49', 'fatalities': '1'}\n",
      "{'date': '11 Apr 1920', 'year': '1920', 'location': 'Heller Field, New Jersey', 'operator': 'US Aerial Mail Service\\n', 'aircraft_type': 'Curtiss JN-4H', 'registration': '44', 'fatalities': '1'}\n",
      "{'date': '12 May 1920', 'year': '1920', 'location': 'Oskaloosa, Iowa', 'operator': 'US Aerial Mail Service\\n', 'aircraft_type': 'De Havilland DH-4', 'registration': '79', 'fatalities': '1'}\n",
      "{'date': '06 Jun 1920', 'year': '1920', 'location': 'Cleveland, Ohio', 'operator': 'US Aerial Mail Service\\n', 'aircraft_type': 'De Havilland DH-4', 'registration': '204', 'fatalities': '1'}\n",
      "{'date': '20 Jun 1920', 'year': '1920', 'location': 'Cartagena, Columbia', 'operator': 'Compañia Colombiana de Navegación Aérea\\n', 'aircraft_type': 'Farman F-40', 'registration': '?', 'fatalities': '1'}\n",
      "{'date': '16 Aug 1920', 'year': '1920', 'location': 'Bedford, England', 'operator': 'By Air\\n', 'aircraft_type': 'Armstrong-Whitworth F-K-8', 'registration': 'G-EALW', 'fatalities': '1'}\n",
      "{'date': '16 Aug 1920', 'year': '1920', 'location': 'College Park, Maryland', 'operator': 'US Aerial Mail Service\\n', 'aircraft_type': 'De Havilland DH-4', 'registration': '317', 'fatalities': '1'}\n",
      "{'date': '01 Sep 1920', 'year': '1920', 'location': 'Morristown, New Jersey', 'operator': 'US Aerial Mail Service\\n', 'aircraft_type': 'Junkers JL-6', 'registration': '305', 'fatalities': '2'}\n",
      "{'date': '15 Sep 1920', 'year': '1920', 'location': 'Pemberville, Ohio', 'operator': 'US Aerial Mail Service\\n', 'aircraft_type': 'Junkers F-13', 'registration': '308', 'fatalities': '2'}\n",
      "{'date': '27 Sep 1920', 'year': '1920', 'location': 'Hillersburg, Pennsylvania', 'operator': 'US Aerial Mail Service\\n', 'aircraft_type': 'De Havilland DH-4', 'registration': '316', 'fatalities': '1'}\n",
      "{'date': '02 Oct 1920', 'year': '1920', 'location': 'Off Port Vendres, France', 'operator': 'Latecoere Airlines\\n', 'aircraft_type': 'Salmson 2-A-2', 'registration': 'F-ALAI', 'fatalities': '2'}\n",
      "{'date': '05 Oct 1920', 'year': '1920', 'location': 'Valencia, Spain', 'operator': 'Latecoere Airlines\\n', 'aircraft_type': 'Breguet 14', 'registration': 'F-ALTA', 'fatalities': '2'}\n",
      "{'date': '15 Oct 1920', 'year': '1920', 'location': 'Batavia, Illinois', 'operator': 'US Aerial Mail Service\\n', 'aircraft_type': 'De Havilland DH-4', 'registration': '76', 'fatalities': '1'}\n",
      "{'date': '07 Nov 1920', 'year': '1920', 'location': 'Tie Siding, Wyoming', 'operator': 'US Aerial Mail Service\\n', 'aircraft_type': 'De Havilland DH-4', 'registration': '?', 'fatalities': '1'}\n",
      "{'date': '14 Dec 1920', 'year': '1920', 'location': 'London, England', 'operator': 'Handley Page Transport\\n', 'aircraft_type': 'Handley Page HP-16', 'registration': 'G-EAMA', 'fatalities': '4'}\n",
      "{'date': '24 Dec 1920', 'year': '1920', 'location': 'Barcelona, Spain', 'operator': 'Aeropostale\\n', 'aircraft_type': 'Breguet 14', 'registration': 'F-ALBO', 'fatalities': '1'}\n"
     ]
    }
   ],
   "source": [
    "# list to store each crash\n",
    "crashdata = []\n",
    "\n",
    "for i, p in crashes.items():\n",
    "    soup = BeautifulSoup(p['data'], 'html.parser')\n",
    "    crashrows = soup.table.find_all('tr')\n",
    "    itercrash = iter(crashrows)\n",
    "    # skip the header row\n",
    "    next(itercrash)\n",
    "    \n",
    "    for row in itercrash:\n",
    "        crashdata = row.find_all('td')\n",
    "        \n",
    "        crashlocop = crashdata[1].get_text(separator='|').split('|')\n",
    "        crashtypereg = crashdata[2].get_text(separator='|').split('|')\n",
    "        crash = {\n",
    "            'date': crashdata[0].text, # date\n",
    "            'year': i, # year\n",
    "            'location': crashlocop[0], #location\n",
    "            'operator': crashlocop[1], #operator\n",
    "            'aircraft_type': crashtypereg[0], # aircraft type\n",
    "            'registration': crashtypereg[1], #registration\n",
    "            'fatalities': crashdata[3].text.split(\"/\")[0] #fatalities\n",
    "        }\n",
    "        print(crash.items)\n",
    "        \n",
    "    break"
   ]
  },
  {
   "cell_type": "code",
   "execution_count": null,
   "metadata": {},
   "outputs": [],
   "source": []
  }
 ],
 "metadata": {
  "kernelspec": {
   "display_name": "Python 3",
   "language": "python",
   "name": "python3"
  },
  "language_info": {
   "codemirror_mode": {
    "name": "ipython",
    "version": 3
   },
   "file_extension": ".py",
   "mimetype": "text/x-python",
   "name": "python",
   "nbconvert_exporter": "python",
   "pygments_lexer": "ipython3",
   "version": "3.6.2"
  }
 },
 "nbformat": 4,
 "nbformat_minor": 2
}
