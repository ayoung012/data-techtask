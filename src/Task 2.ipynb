{
 "cells": [
  {
   "cell_type": "markdown",
   "metadata": {},
   "source": [
    "# Task 2\n",
    "This uses the requests library to scrape the planecrashinfo website. I managed to get all the information required without requesting each individual crash page, which may have resulted in excessive load on the source website and being blocked by the server."
   ]
  },
  {
   "cell_type": "code",
   "execution_count": 3,
   "metadata": {},
   "outputs": [],
   "source": [
    "import requests\n",
    "import sqlite3 as sq\n",
    "from bs4 import BeautifulSoup\n",
    "\n",
    "from IPython.display import HTML, display\n",
    "import tabulate\n",
    "\n",
    "base_url = 'http://www.planecrashinfo.com'\n",
    "database_url = base_url + '/database.htm'"
   ]
  },
  {
   "cell_type": "code",
   "execution_count": 4,
   "metadata": {},
   "outputs": [],
   "source": [
    "r = requests.get(database_url)"
   ]
  },
  {
   "cell_type": "code",
   "execution_count": 5,
   "metadata": {},
   "outputs": [],
   "source": [
    "# Parse initial list\n",
    "soup = BeautifulSoup(r.text, 'html.parser')"
   ]
  },
  {
   "cell_type": "code",
   "execution_count": 6,
   "metadata": {},
   "outputs": [],
   "source": [
    "crashes = {}\n",
    "for a in soup.find_all('a'):\n",
    "    year = a.string.strip()\n",
    "    if (year.isnumeric()):\n",
    "        crashes[year] = {'url': a['href'].strip()}"
   ]
  },
  {
   "cell_type": "code",
   "execution_count": 7,
   "metadata": {},
   "outputs": [],
   "source": [
    "# Fetch webpage data\n",
    "for i, p in crashes.items():\n",
    "    r = requests.get(base_url + '/' + p['url'])\n",
    "    crashes[i]['data'] = r.text"
   ]
  },
  {
   "cell_type": "code",
   "execution_count": 8,
   "metadata": {},
   "outputs": [],
   "source": [
    "# list to store each crash\n",
    "crashdata = []\n",
    "\n",
    "for i, p in crashes.items():\n",
    "    soup = BeautifulSoup(p['data'], 'html.parser')\n",
    "    crashrows = soup.table.find_all('tr')\n",
    "    itercrash = iter(crashrows)\n",
    "    # skip the header row\n",
    "    next(itercrash)\n",
    "    \n",
    "    for row in itercrash:\n",
    "        crashattr = row.find_all('td')\n",
    "        \n",
    "        crashlocop = crashattr[1].get_text(separator='|').strip().split('|')\n",
    "        crashtypereg = crashattr[2].get_text(separator='|').strip().split('|')\n",
    "        crash = (\n",
    "            crashattr[0].text, # date\n",
    "            i, # year\n",
    "            crashlocop[0], #location\n",
    "            crashlocop[1], #operator\n",
    "            crashtypereg[0], # aircraft type\n",
    "            crashtypereg[1], #registration\n",
    "            crashattr[3].text.split(\"/\")[0] #fatalities\n",
    "        )\n",
    "        crashdata.append(crash)"
   ]
  },
  {
   "cell_type": "code",
   "execution_count": 9,
   "metadata": {},
   "outputs": [],
   "source": [
    "# Add data to an sqlite database so we are not being abnoxious scrapers\n",
    "conn = sq.connect('../crashes.db')\n",
    "c = conn.cursor()"
   ]
  },
  {
   "cell_type": "code",
   "execution_count": 10,
   "metadata": {},
   "outputs": [
    {
     "data": {
      "text/plain": [
       "<sqlite3.Cursor at 0x7feb74d5d1f0>"
      ]
     },
     "execution_count": 10,
     "metadata": {},
     "output_type": "execute_result"
    }
   ],
   "source": [
    "c.execute('DROP TABLE IF EXISTS crashes;')\n",
    "c.execute('''\n",
    "CREATE TABLE crashes (\n",
    "            'date' varchar,\n",
    "            'year' int,\n",
    "            'location' varchar,\n",
    "            'operator' varchar,\n",
    "            'aircraft_type' varchar,\n",
    "            'registration' varchar,\n",
    "            'fatalities' int\n",
    ")''')\n",
    "\n",
    "c.executemany('INSERT INTO crashes VALUES (?,?,?,?,?,?,?)', crashdata)"
   ]
  },
  {
   "cell_type": "code",
   "execution_count": 11,
   "metadata": {},
   "outputs": [
    {
     "data": {
      "text/plain": [
       "('17 Sep 1908',\n",
       " 1920,\n",
       " 'Fort Myer, Virginia',\n",
       " 'Military - U.S. Army',\n",
       " 'Wright Flyer III',\n",
       " '?',\n",
       " 1)"
      ]
     },
     "execution_count": 11,
     "metadata": {},
     "output_type": "execute_result"
    }
   ],
   "source": [
    "c.execute('select * from crashes limit 10')\n",
    "c.fetchone()"
   ]
  },
  {
   "cell_type": "code",
   "execution_count": 12,
   "metadata": {},
   "outputs": [
    {
     "data": {
      "text/html": [
       "<table>\n",
       "<thead>\n",
       "<tr><th>Time Period  </th><th style=\"text-align: right;\">  Total Fatalities</th></tr>\n",
       "</thead>\n",
       "<tbody>\n",
       "<tr><td>1920-2016    </td><td style=\"text-align: right;\">            113666</td></tr>\n",
       "</tbody>\n",
       "</table>"
      ],
      "text/plain": [
       "<IPython.core.display.HTML object>"
      ]
     },
     "metadata": {},
     "output_type": "display_data"
    }
   ],
   "source": [
    "# Total Fatalities between the 1920-2016 period\n",
    "c.execute('''\n",
    "    SELECT '1920-2016', SUM(fatalities) FROM crashes\n",
    "    WHERE (year = 1920 AND date LIKE '%1920%') -- deal with dates earlier than 1920\n",
    "    OR year BETWEEN 1921 AND 2016\n",
    "''')\n",
    "display(HTML(tabulate.tabulate(c.fetchall(), ('Time Period', 'Total Fatalities'), tablefmt='html')))"
   ]
  },
  {
   "cell_type": "code",
   "execution_count": 13,
   "metadata": {},
   "outputs": [
    {
     "data": {
      "text/html": [
       "<table>\n",
       "<thead>\n",
       "<tr><th>Operator                 </th><th style=\"text-align: right;\">  Incidents</th></tr>\n",
       "</thead>\n",
       "<tbody>\n",
       "<tr><td>Aeroflot                 </td><td style=\"text-align: right;\">        260</td></tr>\n",
       "<tr><td>Military - U.S. Air Force</td><td style=\"text-align: right;\">        177</td></tr>\n",
       "<tr><td>Air France               </td><td style=\"text-align: right;\">         72</td></tr>\n",
       "</tbody>\n",
       "</table>"
      ],
      "text/plain": [
       "<IPython.core.display.HTML object>"
      ]
     },
     "metadata": {},
     "output_type": "display_data"
    }
   ],
   "source": [
    "# Top 3 airlines with highest rate of incidents\n",
    "c.execute('''\n",
    "    SELECT operator, count(*) FROM crashes\n",
    "    GROUP BY operator\n",
    "    ORDER BY count(*) DESC\n",
    "    LIMIT 3\n",
    "''')\n",
    "\n",
    "display(HTML(tabulate.tabulate(c.fetchall(), ('Operator', 'Incidents'), tablefmt='html')))"
   ]
  },
  {
   "cell_type": "code",
   "execution_count": 14,
   "metadata": {},
   "outputs": [
    {
     "data": {
      "text/html": [
       "<table>\n",
       "<thead>\n",
       "<tr><th style=\"text-align: right;\">  Year</th><th style=\"text-align: right;\">  Incidents</th></tr>\n",
       "</thead>\n",
       "<tbody>\n",
       "<tr><td style=\"text-align: right;\">  1972</td><td style=\"text-align: right;\">        105</td></tr>\n",
       "</tbody>\n",
       "</table>"
      ],
      "text/plain": [
       "<IPython.core.display.HTML object>"
      ]
     },
     "metadata": {},
     "output_type": "display_data"
    }
   ],
   "source": [
    "# Year with the highest number of incidentss\n",
    "c.execute('''\n",
    "    SELECT year, count(*) FROM crashes\n",
    "    GROUP BY year\n",
    "    ORDER BY count(*) DESC\n",
    "    LIMIT 1\n",
    "''')\n",
    "\n",
    "display(HTML(tabulate.tabulate(c.fetchall(), ('Year', 'Incidents'), tablefmt='html')))"
   ]
  },
  {
   "cell_type": "code",
   "execution_count": 15,
   "metadata": {},
   "outputs": [],
   "source": [
    "conn.commit()\n",
    "conn.close()"
   ]
  }
 ],
 "metadata": {
  "kernelspec": {
   "display_name": "Python 3",
   "language": "python",
   "name": "python3"
  },
  "language_info": {
   "codemirror_mode": {
    "name": "ipython",
    "version": 3
   },
   "file_extension": ".py",
   "mimetype": "text/x-python",
   "name": "python",
   "nbconvert_exporter": "python",
   "pygments_lexer": "ipython3",
   "version": "3.6.2"
  }
 },
 "nbformat": 4,
 "nbformat_minor": 2
}
