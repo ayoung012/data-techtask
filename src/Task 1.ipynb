{
 "cells": [
  {
   "cell_type": "code",
   "execution_count": 1,
   "metadata": {},
   "outputs": [],
   "source": [
    "import sqlite3 as sq\n",
    "#import pandas as pd"
   ]
  },
  {
   "cell_type": "code",
   "execution_count": 11,
   "metadata": {},
   "outputs": [],
   "source": [
    "conn = sq.connect('../food.db')\n",
    "c = conn.cursor()"
   ]
  },
  {
   "cell_type": "code",
   "execution_count": 3,
   "metadata": {},
   "outputs": [
    {
     "data": {
      "text/plain": [
       "('Royaume-Uni,France',)"
      ]
     },
     "execution_count": 3,
     "metadata": {},
     "output_type": "execute_result"
    }
   ],
   "source": [
    "c.execute('select DISTINCT countries from food_facts where origins LIKE \\'%au%\\';')\n",
    "c.fetchone()"
   ]
  },
  {
   "cell_type": "code",
   "execution_count": 3,
   "metadata": {},
   "outputs": [],
   "source": [
    "# We'll add this data to a seperate table for easier analysis\n",
    "c.execute('DROP TABLE IF EXISTS food_origins;')\n",
    "c.execute('\\\n",
    "        CREATE TABLE food_origins (\\\n",
    "             code varchar not null,\\\n",
    "             country varchar not null\\\n",
    "        );')\n",
    "\n",
    "c.execute('select code, countries_en from food_facts;')\n",
    "for row in c.fetchall():\n",
    "    if row[1] == '': continue\n",
    "    for country in row[1].split(','):\n",
    "        c.execute('INSERT INTO food_origins (code, country) VALUES (?,?);', [row[0], country])\n"
   ]
  },
  {
   "cell_type": "code",
   "execution_count": 4,
   "metadata": {},
   "outputs": [
    {
     "data": {
      "text/plain": [
       "<sqlite3.Cursor at 0x7fd0088340a0>"
      ]
     },
     "execution_count": 4,
     "metadata": {},
     "output_type": "execute_result"
    }
   ],
   "source": [
    "c.execute('CREATE INDEX food_origin_index ON food_origins(code, country)')"
   ]
  },
  {
   "cell_type": "code",
   "execution_count": 24,
   "metadata": {},
   "outputs": [
    {
     "data": {
      "text/plain": [
       "[]"
      ]
     },
     "execution_count": 24,
     "metadata": {},
     "output_type": "execute_result"
    }
   ],
   "source": [
    "c.execute('SELECT DISTINCT country from food_origins where country = \\'AU\\'')\n",
    "c.fetchall()"
   ]
  },
  {
   "cell_type": "code",
   "execution_count": 7,
   "metadata": {},
   "outputs": [
    {
     "data": {
      "text/plain": [
       "('australia',)"
      ]
     },
     "execution_count": 7,
     "metadata": {},
     "output_type": "execute_result"
    }
   ],
   "source": [
    "c.execute('select DISTINCT manufacturing_places_tags from food_facts where manufacturing_places_tags like \\'%aus%\\'')\n",
    "c.fetchone()"
   ]
  },
  {
   "cell_type": "code",
   "execution_count": 7,
   "metadata": {},
   "outputs": [
    {
     "data": {
      "text/plain": [
       "('0062020000248',\n",
       " 'http://world-en.openfoodfacts.org/product/0062020000248/nutella-ferrero',\n",
       " 'foodorigins',\n",
       " '1447895880',\n",
       " '2015-11-19T01:18:00Z',\n",
       " '1451885453',\n",
       " '2016-01-04T05:30:53Z',\n",
       " 'Nutella',\n",
       " '',\n",
       " '750g',\n",
       " 'Plastic Jar',\n",
       " 'plastic-jar',\n",
       " 'Ferrero',\n",
       " 'ferrero',\n",
       " 'Chocolate Spread',\n",
       " 'en:spreads,en:breakfasts,en:sweet-spreads,fr:pates-a-tartiner,en:chocolate-spreads',\n",
       " 'Spreads,Breakfasts,Sweet spreads,fr:Pâtes à tartiner,Chocolate spreads',\n",
       " 'Australia',\n",
       " 'australia',\n",
       " 'Australia',\n",
       " 'australia',\n",
       " 'Australian Made',\n",
       " 'en:australian-made',\n",
       " 'Australian-made',\n",
       " '',\n",
       " '',\n",
       " '',\n",
       " '',\n",
       " '',\n",
       " 'NSW,Australia',\n",
       " 'Coles,Bilo',\n",
       " 'Australia',\n",
       " 'en:australia',\n",
       " 'Australia',\n",
       " '',\n",
       " '',\n",
       " '',\n",
       " '',\n",
       " '',\n",
       " '',\n",
       " '',\n",
       " '',\n",
       " '',\n",
       " '',\n",
       " '',\n",
       " '',\n",
       " '',\n",
       " '',\n",
       " '',\n",
       " '',\n",
       " '',\n",
       " '',\n",
       " '',\n",
       " '',\n",
       " 'Sugary snacks',\n",
       " 'Sweets',\n",
       " 'en:to-be-completed, en:nutrition-facts-to-be-completed, en:ingredients-to-be-completed, en:expiration-date-completed, en:characteristics-completed, en:categories-completed, en:brands-completed, en:packaging-completed, en:quantity-completed, en:product-name-completed, en:photos-validated, en:photos-uploaded',\n",
       " 'en:to-be-completed,en:nutrition-facts-to-be-completed,en:ingredients-to-be-completed,en:expiration-date-completed,en:characteristics-completed,en:categories-completed,en:brands-completed,en:packaging-completed,en:quantity-completed,en:product-name-completed,en:photos-validated,en:photos-uploaded',\n",
       " 'To be completed,Nutrition facts to be completed,Ingredients to be completed,Expiration date completed,Characteristics completed,Categories completed,Brands completed,Packaging completed,Quantity completed,Product name completed,Photos validated,Photos uploaded',\n",
       " 'en:spreads',\n",
       " 'Spreads',\n",
       " 'http://en.openfoodfacts.org/images/products/006/202/000/0248/front.8.400.jpg',\n",
       " 'http://en.openfoodfacts.org/images/products/006/202/000/0248/front.8.200.jpg',\n",
       " '',\n",
       " '',\n",
       " '',\n",
       " '',\n",
       " '',\n",
       " '',\n",
       " '',\n",
       " '',\n",
       " '',\n",
       " '',\n",
       " '',\n",
       " '',\n",
       " '',\n",
       " '',\n",
       " '',\n",
       " '',\n",
       " '',\n",
       " '',\n",
       " '',\n",
       " '',\n",
       " '',\n",
       " '',\n",
       " '',\n",
       " '',\n",
       " '',\n",
       " '',\n",
       " '',\n",
       " '',\n",
       " '',\n",
       " '',\n",
       " '',\n",
       " '',\n",
       " '',\n",
       " '',\n",
       " '',\n",
       " '',\n",
       " '',\n",
       " '',\n",
       " '',\n",
       " '',\n",
       " '',\n",
       " '',\n",
       " '',\n",
       " '',\n",
       " '',\n",
       " '',\n",
       " '',\n",
       " '',\n",
       " '',\n",
       " '',\n",
       " '',\n",
       " '',\n",
       " '',\n",
       " '',\n",
       " '',\n",
       " '',\n",
       " '',\n",
       " '',\n",
       " '',\n",
       " '',\n",
       " '',\n",
       " '',\n",
       " '',\n",
       " '',\n",
       " '',\n",
       " '',\n",
       " '',\n",
       " '',\n",
       " '',\n",
       " '',\n",
       " '',\n",
       " '',\n",
       " '',\n",
       " '',\n",
       " '',\n",
       " '',\n",
       " '',\n",
       " '',\n",
       " '',\n",
       " '',\n",
       " '',\n",
       " '',\n",
       " '',\n",
       " '',\n",
       " '',\n",
       " '',\n",
       " '',\n",
       " '',\n",
       " '',\n",
       " '',\n",
       " '',\n",
       " '',\n",
       " '',\n",
       " '',\n",
       " '',\n",
       " '',\n",
       " '',\n",
       " '',\n",
       " '')"
      ]
     },
     "execution_count": 7,
     "metadata": {},
     "output_type": "execute_result"
    }
   ],
   "source": [
    "# The text 'austral' seems to cover all of Australian origins, including German spellings of Aus\n",
    "c.execute('SELECT * FROM food_facts WHERE manufacturing_places_tags LIKE \\'%austral%\\'')\n",
    "c.fetchone()"
   ]
  },
  {
   "cell_type": "code",
   "execution_count": 10,
   "metadata": {},
   "outputs": [
    {
     "data": {
      "text/plain": [
       "('en:plant-based-foods-and-beverages,en:plant-based-foods,en:spreads,en:legumes-and-their-products,en:plant-based-spreads,en:nuts-and-their-products,en:oilseed-purees,en:nut-butters,en:legume-butters,en:peanut-butters,en:crunchy-peanut-butter',)"
      ]
     },
     "execution_count": 10,
     "metadata": {},
     "output_type": "execute_result"
    }
   ],
   "source": [
    "# Now where are the peanut butters?\n",
    "c.execute('SELECT DISTINCT categories_tags from food_facts where categories_tags LIKE \\'%peanut%\\'')\n",
    "c.fetchone()"
   ]
  },
  {
   "cell_type": "code",
   "execution_count": 50,
   "metadata": {},
   "outputs": [],
   "source": [
    "# Looks like this column must be processed too...\n",
    "# We'll add this data to a seperate table for easier analysis\n",
    "c.execute('DROP TABLE IF EXISTS food_category;')\n",
    "c.execute('\\\n",
    "        CREATE TABLE food_category (\\\n",
    "             code varchar not null,\\\n",
    "             cat varchar not null\\\n",
    "        );')\n",
    "\n",
    "c.execute('select code, categories_tags from food_facts;')\n",
    "for row in c.fetchall():\n",
    "    if row[1] == '': continue\n",
    "    for cat in row[1].split(','):\n",
    "        c.execute('INSERT INTO food_category (code, cat) VALUES (?,?);', [row[0], cat])"
   ]
  },
  {
   "cell_type": "code",
   "execution_count": 9,
   "metadata": {},
   "outputs": [
    {
     "data": {
      "text/plain": [
       "[('en:peanut-butters',),\n",
       " ('en:crunchy-peanut-butter',),\n",
       " ('en:peanuts',),\n",
       " ('en:peanut-butter-bliss',),\n",
       " ('en:roasted-peanuts',),\n",
       " ('en:unsalted-dry-roasted-peanuts',),\n",
       " ('en:dry-roasted-peanuts',),\n",
       " ('en:peanut-butter-cup',),\n",
       " ('en:creamy-peanut-butter',),\n",
       " ('en:smooth-peanut-butter',),\n",
       " ('en:chocolate-peanut-butter',),\n",
       " ('en:chocolate-covered-peanuts',),\n",
       " ('en:peanut-sauce',),\n",
       " ('en:peanut-butter-and-chocolat-chip-cereal-bar',),\n",
       " ('en:peanut-bars',),\n",
       " ('en:peanut-oils',),\n",
       " ('en:caramelized-peanuts',),\n",
       " ('en:shelled-peanuts',),\n",
       " ('en:roasted-shelled-peanuts',),\n",
       " ('en:unshelled-peanuts',),\n",
       " ('en:peanut-in-chocolate',),\n",
       " ('en:peanuts-turron',),\n",
       " ('en:peanut-butter-blended-with-rich-dark-chocolate',),\n",
       " ('en:salted-peanuts',),\n",
       " ('en:unsalted-peanuts',)]"
      ]
     },
     "execution_count": 9,
     "metadata": {},
     "output_type": "execute_result"
    }
   ],
   "source": [
    "\n",
    "c.execute('SELECT DISTINCT cat from food_category where cat LIKE \\'%peanut%\\'')\n",
    "c.fetchall()"
   ]
  },
  {
   "cell_type": "code",
   "execution_count": 10,
   "metadata": {},
   "outputs": [
    {
     "data": {
      "text/plain": [
       "('0011110016508',)"
      ]
     },
     "execution_count": 10,
     "metadata": {},
     "output_type": "execute_result"
    }
   ],
   "source": [
    "# We want all peanut butter type except the peanut butter cup, which I think is a sweet, and peanut butter bar\n",
    "c.execute('\\\n",
    "    select code from food_category \\\n",
    "    where cat LIKE \\'%peanut-butter%\\'\\\n",
    "    and cat != \\'en:peanut-butter-cup\\' AND cat !=\\'en:peanut-butter-and-chocolat-chip-cereal-bar\\' \\\n",
    "')\n",
    "c.fetchone()"
   ]
  },
  {
   "cell_type": "code",
   "execution_count": 11,
   "metadata": {},
   "outputs": [
    {
     "data": {
      "text/plain": [
       "[('739 g',\n",
       "  'Bramwells American Style Peanut Butter',\n",
       "  ' Peanut Butter, Smooth',\n",
       "  'openfoodfacts-contributors',\n",
       "  'Australia',\n",
       "  'United States'),\n",
       " ('500g',\n",
       "  'Bramwells Peanut Butter Crunchy',\n",
       "  '',\n",
       "  'foodorigins',\n",
       "  'Australia',\n",
       "  'Argentina'),\n",
       " ('  375g ', 'Crunchy Peanut Butter', '', 'foodorigins', 'Australia', 'China'),\n",
       " ('375g', 'Smooth Peanut Butter', '', 'foodorigins', 'Australia', 'India'),\n",
       " ('500g', 'Smooth Peanut Butter', '', 'foodorigins', 'Australia', 'China'),\n",
       " ('500g', 'Crunchy Peanut Butter', '', 'foodorigins', 'Australia', 'China'),\n",
       " ('780g', 'Peanut Butter', '', 'openfoodfacts-contributors', 'Australia', ''),\n",
       " ('', 'Peanut Butter', '', 'openfoodfacts-contributors', 'Australia', ''),\n",
       " ('', 'Peanut butter', 'Peanut butter', 'foodorigins', 'Australia', ''),\n",
       " ('375 g',\n",
       "  'natural peanut butter crunchy',\n",
       "  '',\n",
       "  'svendowideit',\n",
       "  'Australia',\n",
       "  ''),\n",
       " ('500g',\n",
       "  'Peanut Butter Crunchy - No added Salt',\n",
       "  '',\n",
       "  'foodorigins',\n",
       "  'Australia',\n",
       "  'Australia'),\n",
       " ('500g',\n",
       "  'Light Crunchy Peanut Spread - 30% Less Fat',\n",
       "  '',\n",
       "  'foodorigins',\n",
       "  'Australia',\n",
       "  'China'),\n",
       " ('500g',\n",
       "  'Light Smooth Peanut Spread 30% Less Fat',\n",
       "  '',\n",
       "  'foodorigins',\n",
       "  'Australia',\n",
       "  'China'),\n",
       " ('375g',\n",
       "  'Ridiculously Delicious Peanut Butter Super Smooth',\n",
       "  'Peanut butter',\n",
       "  'stanleynorman',\n",
       "  'Australia',\n",
       "  '')]"
      ]
     },
     "execution_count": 11,
     "metadata": {},
     "output_type": "execute_result"
    }
   ],
   "source": [
    "c.execute('\\\n",
    "    SELECT quantity, product_name, generic_name, creator, countries_en, manufacturing_places FROM food_facts\\\n",
    "    WHERE code IN (\\\n",
    "        SELECT code FROM food_origins WHERE country LIKE \\'%austral%\\' OR country = \\'en:AU\\'\\\n",
    "    )\\\n",
    "    AND code IN (\\\n",
    "        select code from food_category \\\n",
    "        where cat LIKE \\'%peanut-butter%\\'\\\n",
    "        and cat != \\'en:peanut-butter-cup\\' AND cat != \\'en:peanut-butter-and-chocolat-chip-cereal-bar\\' \\\n",
    "    )')\n",
    "c.fetchall()"
   ]
  },
  {
   "cell_type": "code",
   "execution_count": 5,
   "metadata": {},
   "outputs": [
    {
     "data": {
      "text/plain": [
       "[(0, 0, 0, 'SCAN TABLE food_origins AS fo1'),\n",
       " (0, 0, 0, 'USE TEMP B-TREE FOR GROUP BY'),\n",
       " (0, 0, 0, 'EXECUTE CORRELATED SCALAR SUBQUERY 1'),\n",
       " (1, 0, 0, 'SCAN TABLE food_facts'),\n",
       " (1, 0, 0, 'EXECUTE CORRELATED LIST SUBQUERY 2'),\n",
       " (2, 0, 0, 'SCAN TABLE food_origins'),\n",
       " (0, 0, 0, 'USE TEMP B-TREE FOR ORDER BY')]"
      ]
     },
     "execution_count": 5,
     "metadata": {},
     "output_type": "execute_result"
    }
   ],
   "source": [
    "# These countries appear the below number of times in the country field\n",
    "c.execute('\\\n",
    "    EXPLAIN QUERY PLAN SELECT country, count(country),\\\n",
    "          (\\\n",
    "              SELECT count(*) from food_facts\\\n",
    "              WHERE code IN (\\\n",
    "                  SELECT code FROM food_origins\\\n",
    "                  WHERE country = fo1.country\\\n",
    "              )\\\n",
    "              AND zinc_100g >0.001\\\n",
    "          ) AS `products with zinc above threshold`\\\n",
    "      FROM food_origins fo1 \\\n",
    "      GROUP BY country\\\n",
    "      ORDER BY count(country)\\\n",
    "      DESC LIMIT 10')\n",
    "c.fetchall()"
   ]
  },
  {
   "cell_type": "code",
   "execution_count": 22,
   "metadata": {},
   "outputs": [
    {
     "data": {
      "text/plain": [
       "[('United States', 173547),\n",
       " ('France', 109734),\n",
       " ('Switzerland', 17053),\n",
       " ('Germany', 8932),\n",
       " ('United Kingdom', 5781),\n",
       " ('Spain', 5750),\n",
       " ('Belgium', 3669),\n",
       " ('Australia', 2268),\n",
       " ('Russia', 1517),\n",
       " ('Italy', 1435)]"
      ]
     },
     "execution_count": 22,
     "metadata": {},
     "output_type": "execute_result"
    }
   ],
   "source": [
    "c.execute('\\\n",
    "    SELECT country, count(country) FROM food_origins\\\n",
    "    GROUP BY country \\\n",
    "    ORDER BY count(country) \\\n",
    "    DESC LIMIT 10\\\n",
    "')\n",
    "c.fetchall()"
   ]
  },
  {
   "cell_type": "code",
   "execution_count": 27,
   "metadata": {},
   "outputs": [
    {
     "data": {
      "text/plain": [
       "('0.01053',)"
      ]
     },
     "execution_count": 27,
     "metadata": {},
     "output_type": "execute_result"
    }
   ],
   "source": [
    "c.execute('''SELECT zinc_100g FROM food_facts\n",
    "          WHERE zinc_100g > 0.001;''')\n",
    "c.fetchone()"
   ]
  },
  {
   "cell_type": "code",
   "execution_count": 25,
   "metadata": {},
   "outputs": [
    {
     "data": {
      "text/plain": [
       "[('United States', 2802),\n",
       " ('France', 174),\n",
       " ('Switzerland', 65),\n",
       " ('Germany', 42),\n",
       " ('Spain', 13),\n",
       " ('Belgium', 10),\n",
       " ('United Kingdom', 6),\n",
       " ('Russia', 5),\n",
       " ('Australia', 4),\n",
       " ('Italy', 3)]"
      ]
     },
     "execution_count": 25,
     "metadata": {},
     "output_type": "execute_result"
    }
   ],
   "source": [
    "# I found this one quite complex. I took it to mean the top 10 countries by number\n",
    "# of products that have its name under 'countries', then sort by and display number of products\n",
    "# for each of these 10 countries that have zinc above 0.001\n",
    "c.execute('''\n",
    "SELECT country, count(country) AS `products with zinc above threshold` from food_origins fo\n",
    "    WHERE country IN (\n",
    "        SELECT country FROM food_origins\n",
    "        GROUP BY country\n",
    "        ORDER BY count(country)\n",
    "        DESC LIMIT 10\n",
    "    )\n",
    "    AND code IN (\n",
    "          SELECT code FROM food_facts\n",
    "          WHERE zinc_100g > 0.001\n",
    "    )\n",
    "    GROUP BY country\n",
    "    ORDER BY count(country) DESC;\n",
    "''')\n",
    "c.fetchall()"
   ]
  },
  {
   "cell_type": "code",
   "execution_count": 36,
   "metadata": {},
   "outputs": [
    {
     "data": {
      "text/plain": [
       "('White chicken, chicken broth, salt.',)"
      ]
     },
     "execution_count": 36,
     "metadata": {},
     "output_type": "execute_result"
    }
   ],
   "source": [
    "c.execute('''\n",
    "    SELECT DISTINCT ingredients_text FROM food_facts\n",
    "    WHERE ingredients_text LIKE '%chicken%'\n",
    "''')\n",
    "c.fetchone()"
   ]
  },
  {
   "cell_type": "code",
   "execution_count": 46,
   "metadata": {},
   "outputs": [],
   "source": [
    "# We'll add this data to a seperate table for easier analysis\n",
    "c.execute('DROP TABLE IF EXISTS food_ingredients;')\n",
    "c.execute('\\\n",
    "        CREATE TABLE food_ingredients (\\\n",
    "             code varchar not null,\\\n",
    "             ingredient varchar not null\\\n",
    "        );')\n",
    "\n",
    "c.execute('select code, ingredients_text from food_facts;')\n",
    "for row in c.fetchall():\n",
    "    if row[1] == '': continue\n",
    "    for cat in row[1].split(','):\n",
    "        c.execute('INSERT INTO food_ingredients (code, ingredient) VALUES (?,?);', [row[0], cat])"
   ]
  },
  {
   "cell_type": "code",
   "execution_count": 47,
   "metadata": {},
   "outputs": [
    {
     "data": {
      "text/plain": [
       "<sqlite3.Cursor at 0x7fd0088341f0>"
      ]
     },
     "execution_count": 47,
     "metadata": {},
     "output_type": "execute_result"
    }
   ],
   "source": [
    "c.execute('CREATE INDEX food_ingredients_index ON food_ingredients(code, ingredient)')"
   ]
  },
  {
   "cell_type": "code",
   "execution_count": 51,
   "metadata": {},
   "outputs": [
    {
     "name": "stderr",
     "output_type": "stream",
     "text": [
      "ERROR:root:An unexpected error occurred while tokenizing input\n",
      "The following traceback may be corrupted or invalid\n",
      "The error message is: ('EOF in multi-line string', (1, 0))\n",
      "\n"
     ]
    },
    {
     "ename": "OperationalError",
     "evalue": "near \"SELECT\": syntax error",
     "output_type": "error",
     "traceback": [
      "\u001b[0;31m---------------------------------------------------------------------------\u001b[0m",
      "\u001b[0;31mOperationalError\u001b[0m                          Traceback (most recent call last)",
      "\u001b[0;32m<ipython-input-51-bd39f74d89cf>\u001b[0m in \u001b[0;36m<module>\u001b[0;34m()\u001b[0m\n\u001b[1;32m      5\u001b[0m     \u001b[0mOR\u001b[0m \u001b[0mingredient\u001b[0m \u001b[0mLIKE\u001b[0m \u001b[0;34m'%pork%'\u001b[0m\u001b[0;34m\u001b[0m\u001b[0m\n\u001b[1;32m      6\u001b[0m     \u001b[0mOR\u001b[0m \u001b[0mingredient\u001b[0m \u001b[0mLIKE\u001b[0m \u001b[0;34m'%tofu%'\u001b[0m\u001b[0;34m\u001b[0m\u001b[0m\n\u001b[0;32m----> 7\u001b[0;31m ''')\n\u001b[0m\u001b[1;32m      8\u001b[0m \u001b[0mc\u001b[0m\u001b[0;34m.\u001b[0m\u001b[0mfetchone\u001b[0m\u001b[0;34m(\u001b[0m\u001b[0;34m)\u001b[0m\u001b[0;34m\u001b[0m\u001b[0m\n",
      "\u001b[0;31mOperationalError\u001b[0m: near \"SELECT\": syntax error"
     ]
    }
   ],
   "source": [
    "c.execute('''\n",
    "    SELECT DISTINCT ingredient FROM food_ingredients\n",
    "    WHERE ingredient LIKE '%chicken%'\n",
    "    OR ingredient LIKE '%pork%'\n",
    "    OR ingredient LIKE '%tofu%'\n",
    "''')\n",
    "c.fetchone()"
   ]
  },
  {
   "cell_type": "code",
   "execution_count": 72,
   "metadata": {},
   "outputs": [
    {
     "data": {
      "text/plain": [
       "[(10.056430954391855, None)]"
      ]
     },
     "execution_count": 72,
     "metadata": {},
     "output_type": "execute_result"
    }
   ],
   "source": [
    "# This sql median function will cope with even and odd result rows\n",
    "# https://stackoverflow.com/questions/2298339/standard-deviation-for-sqlite\n",
    "c.execute('''\n",
    "    select avg, AVG(med) FROM (\n",
    "        SELECT AVG(proteins_100g) AS avg FROM food_facts\n",
    "        WHERE code IN (\n",
    "            SELECT DISTINCT code FROM food_ingredients\n",
    "            WHERE ingredient LIKE '%chicken%'\n",
    "\n",
    "        )\n",
    "        AND proteins_100g != ''\n",
    "    )\n",
    "    LEFT JOIN\n",
    "    (\n",
    "        SELECT proteins_100g as med\n",
    "        FROM food_facts\n",
    "        WHERE code IN (\n",
    "            SELECT DISTINCT code FROM food_ingredients\n",
    "            WHERE ingredient LIKE '%chicken%'\n",
    "\n",
    "        )\n",
    "        ORDER BY proteins_100g\n",
    "        LIMIT 2\n",
    "        OFFSET (SELECT (COUNT(*) - 1) / 2\n",
    "            FROM food_facts)\n",
    "    )\n",
    "''')\n",
    "c.fetchall()"
   ]
  },
  {
   "cell_type": "code",
   "execution_count": 10,
   "metadata": {},
   "outputs": [],
   "source": [
    "conn.commit()\n",
    "conn.close()"
   ]
  },
  {
   "cell_type": "code",
   "execution_count": null,
   "metadata": {},
   "outputs": [],
   "source": [
    "# Combine queries\n"
   ]
  }
 ],
 "metadata": {
  "kernelspec": {
   "display_name": "Python 3",
   "language": "python",
   "name": "python3"
  },
  "language_info": {
   "codemirror_mode": {
    "name": "ipython",
    "version": 3
   },
   "file_extension": ".py",
   "mimetype": "text/x-python",
   "name": "python",
   "nbconvert_exporter": "python",
   "pygments_lexer": "ipython3",
   "version": "3.6.2"
  }
 },
 "nbformat": 4,
 "nbformat_minor": 2
}
