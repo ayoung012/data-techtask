{
 "cells": [
  {
   "cell_type": "code",
   "execution_count": 74,
   "metadata": {},
   "outputs": [],
   "source": [
    "import sqlite3 as sq\n",
    "import numpy as np\n",
    "\n",
    "from IPython.display import HTML, display\n",
    "import tabulate"
   ]
  },
  {
   "cell_type": "code",
   "execution_count": 11,
   "metadata": {},
   "outputs": [],
   "source": [
    "conn = sq.connect('../food.db')\n",
    "c = conn.cursor()"
   ]
  },
  {
   "cell_type": "code",
   "execution_count": 3,
   "metadata": {},
   "outputs": [
    {
     "data": {
      "text/plain": [
       "('Royaume-Uni,France',)"
      ]
     },
     "execution_count": 3,
     "metadata": {},
     "output_type": "execute_result"
    }
   ],
   "source": [
    "c.execute('select DISTINCT countries from food_facts where origins LIKE \\'%au%\\';')\n",
    "c.fetchone()"
   ]
  },
  {
   "cell_type": "code",
   "execution_count": 3,
   "metadata": {},
   "outputs": [],
   "source": [
    "# We'll add this data to a seperate table for easier analysis\n",
    "c.execute('DROP TABLE IF EXISTS food_origins;')\n",
    "c.execute('\\\n",
    "        CREATE TABLE food_origins (\\\n",
    "             code varchar not null,\\\n",
    "             country varchar not null\\\n",
    "        );')\n",
    "\n",
    "c.execute('select code, countries_en from food_facts;')\n",
    "for row in c.fetchall():\n",
    "    if row[1] == '': continue\n",
    "    for country in row[1].split(','):\n",
    "        c.execute('INSERT INTO food_origins (code, country) VALUES (?,?);', [row[0], country])\n"
   ]
  },
  {
   "cell_type": "code",
   "execution_count": 4,
   "metadata": {},
   "outputs": [
    {
     "data": {
      "text/plain": [
       "<sqlite3.Cursor at 0x7fd0088340a0>"
      ]
     },
     "execution_count": 4,
     "metadata": {},
     "output_type": "execute_result"
    }
   ],
   "source": [
    "c.execute('CREATE INDEX food_origin_index ON food_origins(code, country)')"
   ]
  },
  {
   "cell_type": "code",
   "execution_count": 24,
   "metadata": {},
   "outputs": [
    {
     "data": {
      "text/plain": [
       "[]"
      ]
     },
     "execution_count": 24,
     "metadata": {},
     "output_type": "execute_result"
    }
   ],
   "source": [
    "c.execute('SELECT DISTINCT country from food_origins where country = \\'AU\\'')\n",
    "c.fetchall()"
   ]
  },
  {
   "cell_type": "code",
   "execution_count": 7,
   "metadata": {},
   "outputs": [
    {
     "data": {
      "text/plain": [
       "('australia',)"
      ]
     },
     "execution_count": 7,
     "metadata": {},
     "output_type": "execute_result"
    }
   ],
   "source": [
    "c.execute('select DISTINCT manufacturing_places_tags from food_facts where manufacturing_places_tags like \\'%aus%\\'')\n",
    "c.fetchone()"
   ]
  },
  {
   "cell_type": "code",
   "execution_count": 7,
   "metadata": {},
   "outputs": [
    {
     "data": {
      "text/plain": [
       "('0062020000248',\n",
       " 'http://world-en.openfoodfacts.org/product/0062020000248/nutella-ferrero',\n",
       " 'foodorigins',\n",
       " '1447895880',\n",
       " '2015-11-19T01:18:00Z',\n",
       " '1451885453',\n",
       " '2016-01-04T05:30:53Z',\n",
       " 'Nutella',\n",
       " '',\n",
       " '750g',\n",
       " 'Plastic Jar',\n",
       " 'plastic-jar',\n",
       " 'Ferrero',\n",
       " 'ferrero',\n",
       " 'Chocolate Spread',\n",
       " 'en:spreads,en:breakfasts,en:sweet-spreads,fr:pates-a-tartiner,en:chocolate-spreads',\n",
       " 'Spreads,Breakfasts,Sweet spreads,fr:Pâtes à tartiner,Chocolate spreads',\n",
       " 'Australia',\n",
       " 'australia',\n",
       " 'Australia',\n",
       " 'australia',\n",
       " 'Australian Made',\n",
       " 'en:australian-made',\n",
       " 'Australian-made',\n",
       " '',\n",
       " '',\n",
       " '',\n",
       " '',\n",
       " '',\n",
       " 'NSW,Australia',\n",
       " 'Coles,Bilo',\n",
       " 'Australia',\n",
       " 'en:australia',\n",
       " 'Australia',\n",
       " '',\n",
       " '',\n",
       " '',\n",
       " '',\n",
       " '',\n",
       " '',\n",
       " '',\n",
       " '',\n",
       " '',\n",
       " '',\n",
       " '',\n",
       " '',\n",
       " '',\n",
       " '',\n",
       " '',\n",
       " '',\n",
       " '',\n",
       " '',\n",
       " '',\n",
       " '',\n",
       " 'Sugary snacks',\n",
       " 'Sweets',\n",
       " 'en:to-be-completed, en:nutrition-facts-to-be-completed, en:ingredients-to-be-completed, en:expiration-date-completed, en:characteristics-completed, en:categories-completed, en:brands-completed, en:packaging-completed, en:quantity-completed, en:product-name-completed, en:photos-validated, en:photos-uploaded',\n",
       " 'en:to-be-completed,en:nutrition-facts-to-be-completed,en:ingredients-to-be-completed,en:expiration-date-completed,en:characteristics-completed,en:categories-completed,en:brands-completed,en:packaging-completed,en:quantity-completed,en:product-name-completed,en:photos-validated,en:photos-uploaded',\n",
       " 'To be completed,Nutrition facts to be completed,Ingredients to be completed,Expiration date completed,Characteristics completed,Categories completed,Brands completed,Packaging completed,Quantity completed,Product name completed,Photos validated,Photos uploaded',\n",
       " 'en:spreads',\n",
       " 'Spreads',\n",
       " 'http://en.openfoodfacts.org/images/products/006/202/000/0248/front.8.400.jpg',\n",
       " 'http://en.openfoodfacts.org/images/products/006/202/000/0248/front.8.200.jpg',\n",
       " '',\n",
       " '',\n",
       " '',\n",
       " '',\n",
       " '',\n",
       " '',\n",
       " '',\n",
       " '',\n",
       " '',\n",
       " '',\n",
       " '',\n",
       " '',\n",
       " '',\n",
       " '',\n",
       " '',\n",
       " '',\n",
       " '',\n",
       " '',\n",
       " '',\n",
       " '',\n",
       " '',\n",
       " '',\n",
       " '',\n",
       " '',\n",
       " '',\n",
       " '',\n",
       " '',\n",
       " '',\n",
       " '',\n",
       " '',\n",
       " '',\n",
       " '',\n",
       " '',\n",
       " '',\n",
       " '',\n",
       " '',\n",
       " '',\n",
       " '',\n",
       " '',\n",
       " '',\n",
       " '',\n",
       " '',\n",
       " '',\n",
       " '',\n",
       " '',\n",
       " '',\n",
       " '',\n",
       " '',\n",
       " '',\n",
       " '',\n",
       " '',\n",
       " '',\n",
       " '',\n",
       " '',\n",
       " '',\n",
       " '',\n",
       " '',\n",
       " '',\n",
       " '',\n",
       " '',\n",
       " '',\n",
       " '',\n",
       " '',\n",
       " '',\n",
       " '',\n",
       " '',\n",
       " '',\n",
       " '',\n",
       " '',\n",
       " '',\n",
       " '',\n",
       " '',\n",
       " '',\n",
       " '',\n",
       " '',\n",
       " '',\n",
       " '',\n",
       " '',\n",
       " '',\n",
       " '',\n",
       " '',\n",
       " '',\n",
       " '',\n",
       " '',\n",
       " '',\n",
       " '',\n",
       " '',\n",
       " '',\n",
       " '',\n",
       " '',\n",
       " '',\n",
       " '',\n",
       " '',\n",
       " '',\n",
       " '',\n",
       " '',\n",
       " '',\n",
       " '',\n",
       " '')"
      ]
     },
     "execution_count": 7,
     "metadata": {},
     "output_type": "execute_result"
    }
   ],
   "source": [
    "# The text 'austral' seems to cover all of Australian origins, including German spellings of Aus\n",
    "c.execute('SELECT * FROM food_facts WHERE manufacturing_places_tags LIKE \\'%austral%\\'')\n",
    "c.fetchone()"
   ]
  },
  {
   "cell_type": "code",
   "execution_count": 10,
   "metadata": {},
   "outputs": [
    {
     "data": {
      "text/plain": [
       "('en:plant-based-foods-and-beverages,en:plant-based-foods,en:spreads,en:legumes-and-their-products,en:plant-based-spreads,en:nuts-and-their-products,en:oilseed-purees,en:nut-butters,en:legume-butters,en:peanut-butters,en:crunchy-peanut-butter',)"
      ]
     },
     "execution_count": 10,
     "metadata": {},
     "output_type": "execute_result"
    }
   ],
   "source": [
    "# Now where are the peanut butters?\n",
    "c.execute('SELECT DISTINCT categories_tags from food_facts where categories_tags LIKE \\'%peanut%\\'')\n",
    "c.fetchone()"
   ]
  },
  {
   "cell_type": "code",
   "execution_count": 50,
   "metadata": {},
   "outputs": [],
   "source": [
    "# Looks like this column must be processed too...\n",
    "# We'll add this data to a seperate table for easier analysis\n",
    "c.execute('DROP TABLE IF EXISTS food_category;')\n",
    "c.execute('\\\n",
    "        CREATE TABLE food_category (\\\n",
    "             code varchar not null,\\\n",
    "             cat varchar not null\\\n",
    "        );')\n",
    "\n",
    "c.execute('select code, categories_tags from food_facts;')\n",
    "for row in c.fetchall():\n",
    "    if row[1] == '': continue\n",
    "    for cat in row[1].split(','):\n",
    "        c.execute('INSERT INTO food_category (code, cat) VALUES (?,?);', [row[0], cat])"
   ]
  },
  {
   "cell_type": "code",
   "execution_count": 9,
   "metadata": {},
   "outputs": [
    {
     "data": {
      "text/plain": [
       "[('en:peanut-butters',),\n",
       " ('en:crunchy-peanut-butter',),\n",
       " ('en:peanuts',),\n",
       " ('en:peanut-butter-bliss',),\n",
       " ('en:roasted-peanuts',),\n",
       " ('en:unsalted-dry-roasted-peanuts',),\n",
       " ('en:dry-roasted-peanuts',),\n",
       " ('en:peanut-butter-cup',),\n",
       " ('en:creamy-peanut-butter',),\n",
       " ('en:smooth-peanut-butter',),\n",
       " ('en:chocolate-peanut-butter',),\n",
       " ('en:chocolate-covered-peanuts',),\n",
       " ('en:peanut-sauce',),\n",
       " ('en:peanut-butter-and-chocolat-chip-cereal-bar',),\n",
       " ('en:peanut-bars',),\n",
       " ('en:peanut-oils',),\n",
       " ('en:caramelized-peanuts',),\n",
       " ('en:shelled-peanuts',),\n",
       " ('en:roasted-shelled-peanuts',),\n",
       " ('en:unshelled-peanuts',),\n",
       " ('en:peanut-in-chocolate',),\n",
       " ('en:peanuts-turron',),\n",
       " ('en:peanut-butter-blended-with-rich-dark-chocolate',),\n",
       " ('en:salted-peanuts',),\n",
       " ('en:unsalted-peanuts',)]"
      ]
     },
     "execution_count": 9,
     "metadata": {},
     "output_type": "execute_result"
    }
   ],
   "source": [
    "# Determine which categories we want to include\n",
    "c.execute('SELECT DISTINCT cat from food_category where cat LIKE \\'%peanut%\\'')\n",
    "c.fetchall()"
   ]
  },
  {
   "cell_type": "code",
   "execution_count": 10,
   "metadata": {},
   "outputs": [
    {
     "data": {
      "text/plain": [
       "('0011110016508',)"
      ]
     },
     "execution_count": 10,
     "metadata": {},
     "output_type": "execute_result"
    }
   ],
   "source": [
    "# We want all peanut butter type except the peanut butter cup, which I think is a sweet, and peanut butter bar\n",
    "c.execute('\\\n",
    "    select code from food_category \\\n",
    "    where cat LIKE \\'%peanut-butter%\\'\\\n",
    "    and cat != \\'en:peanut-butter-cup\\' AND cat !=\\'en:peanut-butter-and-chocolat-chip-cereal-bar\\' \\\n",
    "')\n",
    "c.fetchone()"
   ]
  },
  {
   "cell_type": "code",
   "execution_count": 75,
   "metadata": {},
   "outputs": [
    {
     "data": {
      "text/html": [
       "<table>\n",
       "<thead>\n",
       "<tr><th>Quantity  </th><th>Product Name                                     </th><th>Generic Name         </th><th>Creator                   </th><th>Countries  </th><th>Place of Manufacture  </th></tr>\n",
       "</thead>\n",
       "<tbody>\n",
       "<tr><td>739 g     </td><td>Bramwells American Style Peanut Butter           </td><td>Peanut Butter, Smooth</td><td>openfoodfacts-contributors</td><td>Australia  </td><td>United States         </td></tr>\n",
       "<tr><td>500g      </td><td>Bramwells Peanut Butter Crunchy                  </td><td>                     </td><td>foodorigins               </td><td>Australia  </td><td>Argentina             </td></tr>\n",
       "<tr><td>375g      </td><td>Crunchy Peanut Butter                            </td><td>                     </td><td>foodorigins               </td><td>Australia  </td><td>China                 </td></tr>\n",
       "<tr><td>375g      </td><td>Smooth Peanut Butter                             </td><td>                     </td><td>foodorigins               </td><td>Australia  </td><td>India                 </td></tr>\n",
       "<tr><td>500g      </td><td>Smooth Peanut Butter                             </td><td>                     </td><td>foodorigins               </td><td>Australia  </td><td>China                 </td></tr>\n",
       "<tr><td>500g      </td><td>Crunchy Peanut Butter                            </td><td>                     </td><td>foodorigins               </td><td>Australia  </td><td>China                 </td></tr>\n",
       "<tr><td>780g      </td><td>Peanut Butter                                    </td><td>                     </td><td>openfoodfacts-contributors</td><td>Australia  </td><td>                      </td></tr>\n",
       "<tr><td>          </td><td>Peanut Butter                                    </td><td>                     </td><td>openfoodfacts-contributors</td><td>Australia  </td><td>                      </td></tr>\n",
       "<tr><td>          </td><td>Peanut butter                                    </td><td>Peanut butter        </td><td>foodorigins               </td><td>Australia  </td><td>                      </td></tr>\n",
       "<tr><td>375 g     </td><td>natural peanut butter crunchy                    </td><td>                     </td><td>svendowideit              </td><td>Australia  </td><td>                      </td></tr>\n",
       "<tr><td>500g      </td><td>Peanut Butter Crunchy - No added Salt            </td><td>                     </td><td>foodorigins               </td><td>Australia  </td><td>Australia             </td></tr>\n",
       "<tr><td>500g      </td><td>Light Crunchy Peanut Spread - 30% Less Fat       </td><td>                     </td><td>foodorigins               </td><td>Australia  </td><td>China                 </td></tr>\n",
       "<tr><td>500g      </td><td>Light Smooth Peanut Spread 30% Less Fat          </td><td>                     </td><td>foodorigins               </td><td>Australia  </td><td>China                 </td></tr>\n",
       "<tr><td>375g      </td><td>Ridiculously Delicious Peanut Butter Super Smooth</td><td>Peanut butter        </td><td>stanleynorman             </td><td>Australia  </td><td>                      </td></tr>\n",
       "</tbody>\n",
       "</table>"
      ],
      "text/plain": [
       "<IPython.core.display.HTML object>"
      ]
     },
     "metadata": {},
     "output_type": "display_data"
    }
   ],
   "source": [
    "c.execute('\\\n",
    "    SELECT quantity, product_name, generic_name, creator, countries_en, manufacturing_places FROM food_facts\\\n",
    "    WHERE code IN (\\\n",
    "        SELECT code FROM food_origins WHERE country LIKE \\'%austral%\\' OR country = \\'en:AU\\'\\\n",
    "    )\\\n",
    "    AND code IN (\\\n",
    "        select code from food_category \\\n",
    "        where cat LIKE \\'%peanut-butter%\\'\\\n",
    "        and cat != \\'en:peanut-butter-cup\\' AND cat != \\'en:peanut-butter-and-chocolat-chip-cereal-bar\\' \\\n",
    "    )')\n",
    "heading = ('Quantity', 'Product Name', 'Generic Name', 'Creator', 'Countries', 'Place of Manufacture')\n",
    "display(HTML(tabulate.tabulate(c.fetchall(), heading, tablefmt='html')))"
   ]
  },
  {
   "cell_type": "code",
   "execution_count": 5,
   "metadata": {},
   "outputs": [
    {
     "data": {
      "text/plain": [
       "[(0, 0, 0, 'SCAN TABLE food_origins AS fo1'),\n",
       " (0, 0, 0, 'USE TEMP B-TREE FOR GROUP BY'),\n",
       " (0, 0, 0, 'EXECUTE CORRELATED SCALAR SUBQUERY 1'),\n",
       " (1, 0, 0, 'SCAN TABLE food_facts'),\n",
       " (1, 0, 0, 'EXECUTE CORRELATED LIST SUBQUERY 2'),\n",
       " (2, 0, 0, 'SCAN TABLE food_origins'),\n",
       " (0, 0, 0, 'USE TEMP B-TREE FOR ORDER BY')]"
      ]
     },
     "execution_count": 5,
     "metadata": {},
     "output_type": "execute_result"
    }
   ],
   "source": [
    "# These countries appear the below number of times in the country field\n",
    "c.execute('\\\n",
    "    EXPLAIN QUERY PLAN SELECT country, count(country),\\\n",
    "          (\\\n",
    "              SELECT count(*) from food_facts\\\n",
    "              WHERE code IN (\\\n",
    "                  SELECT code FROM food_origins\\\n",
    "                  WHERE country = fo1.country\\\n",
    "              )\\\n",
    "              AND zinc_100g >0.001\\\n",
    "          ) AS `products with zinc above threshold`\\\n",
    "      FROM food_origins fo1 \\\n",
    "      GROUP BY country\\\n",
    "      ORDER BY count(country)\\\n",
    "      DESC LIMIT 10')\n",
    "c.fetchall()"
   ]
  },
  {
   "cell_type": "code",
   "execution_count": 76,
   "metadata": {},
   "outputs": [
    {
     "data": {
      "text/html": [
       "<table>\n",
       "<thead>\n",
       "<tr><th>Country       </th><th style=\"text-align: right;\">  Quantity</th></tr>\n",
       "</thead>\n",
       "<tbody>\n",
       "<tr><td>United States </td><td style=\"text-align: right;\">    173547</td></tr>\n",
       "<tr><td>France        </td><td style=\"text-align: right;\">    109734</td></tr>\n",
       "<tr><td>Switzerland   </td><td style=\"text-align: right;\">     17053</td></tr>\n",
       "<tr><td>Germany       </td><td style=\"text-align: right;\">      8932</td></tr>\n",
       "<tr><td>United Kingdom</td><td style=\"text-align: right;\">      5781</td></tr>\n",
       "<tr><td>Spain         </td><td style=\"text-align: right;\">      5750</td></tr>\n",
       "<tr><td>Belgium       </td><td style=\"text-align: right;\">      3669</td></tr>\n",
       "<tr><td>Australia     </td><td style=\"text-align: right;\">      2268</td></tr>\n",
       "<tr><td>Russia        </td><td style=\"text-align: right;\">      1517</td></tr>\n",
       "<tr><td>Italy         </td><td style=\"text-align: right;\">      1435</td></tr>\n",
       "</tbody>\n",
       "</table>"
      ],
      "text/plain": [
       "<IPython.core.display.HTML object>"
      ]
     },
     "metadata": {},
     "output_type": "display_data"
    }
   ],
   "source": [
    "c.execute('\\\n",
    "    SELECT country, count(country) FROM food_origins\\\n",
    "    GROUP BY country \\\n",
    "    ORDER BY count(country) \\\n",
    "    DESC LIMIT 10\\\n",
    "')\n",
    "display(HTML(tabulate.tabulate(c.fetchall(), ('Country', 'Quantity'), tablefmt='html')))"
   ]
  },
  {
   "cell_type": "code",
   "execution_count": 27,
   "metadata": {},
   "outputs": [
    {
     "data": {
      "text/plain": [
       "('0.01053',)"
      ]
     },
     "execution_count": 27,
     "metadata": {},
     "output_type": "execute_result"
    }
   ],
   "source": [
    "c.execute('''SELECT zinc_100g FROM food_facts\n",
    "          WHERE zinc_100g > 0.001;''')\n",
    "c.fetchone()"
   ]
  },
  {
   "cell_type": "code",
   "execution_count": 77,
   "metadata": {},
   "outputs": [
    {
     "data": {
      "text/html": [
       "<table>\n",
       "<thead>\n",
       "<tr><th>Country       </th><th style=\"text-align: right;\">  products with zinc above threshold</th></tr>\n",
       "</thead>\n",
       "<tbody>\n",
       "<tr><td>United States </td><td style=\"text-align: right;\">                                2802</td></tr>\n",
       "<tr><td>France        </td><td style=\"text-align: right;\">                                 174</td></tr>\n",
       "<tr><td>Switzerland   </td><td style=\"text-align: right;\">                                  65</td></tr>\n",
       "<tr><td>Germany       </td><td style=\"text-align: right;\">                                  42</td></tr>\n",
       "<tr><td>Spain         </td><td style=\"text-align: right;\">                                  13</td></tr>\n",
       "<tr><td>Belgium       </td><td style=\"text-align: right;\">                                  10</td></tr>\n",
       "<tr><td>United Kingdom</td><td style=\"text-align: right;\">                                   6</td></tr>\n",
       "<tr><td>Russia        </td><td style=\"text-align: right;\">                                   5</td></tr>\n",
       "<tr><td>Australia     </td><td style=\"text-align: right;\">                                   4</td></tr>\n",
       "<tr><td>Italy         </td><td style=\"text-align: right;\">                                   3</td></tr>\n",
       "</tbody>\n",
       "</table>"
      ],
      "text/plain": [
       "<IPython.core.display.HTML object>"
      ]
     },
     "metadata": {},
     "output_type": "display_data"
    }
   ],
   "source": [
    "# I found this one quite complex. I took it to mean the top 10 countries by number\n",
    "# of products that have its name under 'countries', then sort by and display number of products\n",
    "# for each of these 10 countries that have zinc above 0.001\n",
    "c.execute('''\n",
    "SELECT country, count(country) AS `products with zinc above threshold` from food_origins fo\n",
    "    WHERE country IN (\n",
    "        SELECT country FROM food_origins\n",
    "        GROUP BY country\n",
    "        ORDER BY count(country)\n",
    "        DESC LIMIT 10\n",
    "    )\n",
    "    AND code IN (\n",
    "          SELECT code FROM food_facts\n",
    "          WHERE zinc_100g > 0.001\n",
    "    )\n",
    "    GROUP BY country\n",
    "    ORDER BY count(country) DESC;\n",
    "''')\n",
    "display(HTML(tabulate.tabulate(c.fetchall(), ('Country', 'products with zinc above threshold'), tablefmt='html')))"
   ]
  },
  {
   "cell_type": "code",
   "execution_count": 36,
   "metadata": {},
   "outputs": [
    {
     "data": {
      "text/plain": [
       "('White chicken, chicken broth, salt.',)"
      ]
     },
     "execution_count": 36,
     "metadata": {},
     "output_type": "execute_result"
    }
   ],
   "source": [
    "c.execute('''\n",
    "    SELECT DISTINCT ingredients_text FROM food_facts\n",
    "    WHERE ingredients_text LIKE '%chicken%'\n",
    "''')\n",
    "c.fetchone()"
   ]
  },
  {
   "cell_type": "code",
   "execution_count": 46,
   "metadata": {},
   "outputs": [],
   "source": [
    "# We'll add this data to a seperate table for easier analysis\n",
    "c.execute('DROP TABLE IF EXISTS food_ingredients;')\n",
    "c.execute('\\\n",
    "        CREATE TABLE food_ingredients (\\\n",
    "             code varchar not null,\\\n",
    "             ingredient varchar not null\\\n",
    "        );')\n",
    "\n",
    "c.execute('select code, ingredients_text from food_facts;')\n",
    "for row in c.fetchall():\n",
    "    if row[1] == '': continue\n",
    "    for cat in row[1].split(','):\n",
    "        c.execute('INSERT INTO food_ingredients (code, ingredient) VALUES (?,?);', [row[0], cat])"
   ]
  },
  {
   "cell_type": "code",
   "execution_count": 47,
   "metadata": {},
   "outputs": [
    {
     "data": {
      "text/plain": [
       "<sqlite3.Cursor at 0x7fd0088341f0>"
      ]
     },
     "execution_count": 47,
     "metadata": {},
     "output_type": "execute_result"
    }
   ],
   "source": [
    "c.execute('CREATE INDEX food_ingredients_index ON food_ingredients(code, ingredient)')"
   ]
  },
  {
   "cell_type": "code",
   "execution_count": 78,
   "metadata": {},
   "outputs": [
    {
     "data": {
      "text/plain": [
       "(' Cooked Italian Sausage (Pork',)"
      ]
     },
     "execution_count": 78,
     "metadata": {},
     "output_type": "execute_result"
    }
   ],
   "source": [
    "c.execute('''\n",
    "    SELECT DISTINCT ingredient FROM food_ingredients\n",
    "    WHERE ingredient LIKE '%chicken%'\n",
    "    OR ingredient LIKE '%pork%'\n",
    "    OR ingredient LIKE '%tofu%'\n",
    "''')\n",
    "c.fetchone()"
   ]
  },
  {
   "cell_type": "code",
   "execution_count": 113,
   "metadata": {},
   "outputs": [
    {
     "data": {
      "text/html": [
       "<table>\n",
       "<thead>\n",
       "<tr><th>Country  </th><th style=\"text-align: right;\">    Avg</th><th style=\"text-align: right;\">  Median</th><th style=\"text-align: right;\">  Std Dev</th></tr>\n",
       "</thead>\n",
       "<tbody>\n",
       "<tr><td>chicken  </td><td style=\"text-align: right;\">10.0564</td><td style=\"text-align: right;\">    9.73</td><td style=\"text-align: right;\">  7.07095</td></tr>\n",
       "<tr><td>pork     </td><td style=\"text-align: right;\">16.9258</td><td style=\"text-align: right;\">   14.68</td><td style=\"text-align: right;\"> 11.1602 </td></tr>\n",
       "<tr><td>tofu     </td><td style=\"text-align: right;\">10.8612</td><td style=\"text-align: right;\">    9.78</td><td style=\"text-align: right;\">  6.99405</td></tr>\n",
       "</tbody>\n",
       "</table>"
      ],
      "text/plain": [
       "<IPython.core.display.HTML object>"
      ]
     },
     "metadata": {},
     "output_type": "display_data"
    }
   ],
   "source": [
    "ingredients = ('chicken', 'pork', 'tofu')\n",
    "protein_stats = []\n",
    "\n",
    "for i in ingredients:\n",
    "\n",
    "\n",
    "    # The last two calculations were too inconvenient to do in sqlite, so opted for numpy solution\n",
    "    c.execute(\"\"\"\n",
    "        SELECT CAST(proteins_100g AS FLOAT)\n",
    "        FROM food_facts\n",
    "        WHERE code IN (\n",
    "            SELECT DISTINCT code FROM food_ingredients\n",
    "            WHERE ingredient LIKE '%\"\"\"+ i +\"\"\"%'\n",
    "\n",
    "        )\n",
    "        AND proteins_100g != ''\n",
    "        ORDER BY proteins_100g\n",
    "    \"\"\")\n",
    "    protein_all = c.fetchall()\n",
    "    \n",
    "    avg = np.mean(protein_all)\n",
    "    med = np.median(protein_all)\n",
    "    \n",
    "    stddev = np.std(protein_all)\n",
    "    \n",
    "    protein_stats.append((i, avg, med, stddev))\n",
    "    \n",
    "heading=('Country', 'Avg', 'Median', 'Std Dev')\n",
    "display(HTML(tabulate.tabulate(protein_stats, heading, tablefmt='html')))"
   ]
  },
  {
   "cell_type": "code",
   "execution_count": 103,
   "metadata": {},
   "outputs": [
    {
     "data": {
      "text/html": [
       "<table>\n",
       "<tbody>\n",
       "<tr><td>(10.056430954391855,)</td><td>(16.92583901773535,)</td><td>(10.861164122137417,)</td></tr>\n",
       "<tr><td>                     </td><td>                    </td><td>                     </td></tr>\n",
       "</tbody>\n",
       "</table>"
      ],
      "text/plain": [
       "<IPython.core.display.HTML object>"
      ]
     },
     "metadata": {},
     "output_type": "display_data"
    }
   ],
   "source": [
    "display(HTML(tabulate.tabulate(protein_stats, tablefmt='html')))"
   ]
  },
  {
   "cell_type": "code",
   "execution_count": 10,
   "metadata": {},
   "outputs": [],
   "source": [
    "conn.commit()\n",
    "conn.close()"
   ]
  },
  {
   "cell_type": "code",
   "execution_count": null,
   "metadata": {},
   "outputs": [],
   "source": [
    "# Combine queries\n"
   ]
  }
 ],
 "metadata": {
  "kernelspec": {
   "display_name": "Python 3",
   "language": "python",
   "name": "python3"
  },
  "language_info": {
   "codemirror_mode": {
    "name": "ipython",
    "version": 3
   },
   "file_extension": ".py",
   "mimetype": "text/x-python",
   "name": "python",
   "nbconvert_exporter": "python",
   "pygments_lexer": "ipython3",
   "version": "3.6.2"
  }
 },
 "nbformat": 4,
 "nbformat_minor": 2
}
